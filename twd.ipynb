{
 "cells": [
  {
   "cell_type": "code",
   "execution_count": 1,
   "metadata": {},
   "outputs": [],
   "source": [
    "import numpy as np\n",
    "import matplotlib.pyplot as plt\n",
    "import tensorflow as tf\n",
    "import cv2\n",
    "from keras import datasets\n",
    "from sklearn import metrics\n",
    "from sklearn.model_selection import train_test_split\n",
    "\n",
    "import pywt\n",
    "import pywt.data"
   ]
  },
  {
   "attachments": {},
   "cell_type": "markdown",
   "metadata": {},
   "source": [
    "### CIFAR 10\n"
   ]
  },
  {
   "cell_type": "code",
   "execution_count": 14,
   "metadata": {},
   "outputs": [],
   "source": [
    "(train_images, train_labels), (test_images, test_labels) = datasets.cifar10.load_data()"
   ]
  },
  {
   "cell_type": "code",
   "execution_count": 15,
   "metadata": {},
   "outputs": [
    {
     "data": {
      "text/plain": [
       "(50000, 32, 32, 3)"
      ]
     },
     "execution_count": 15,
     "metadata": {},
     "output_type": "execute_result"
    }
   ],
   "source": [
    "class_names = ['airplane', 'automobile', 'bird', 'cat', 'deer',\n",
    "                'dog', 'frog', 'horse', 'ship', 'truck']\n",
    "train_images.shape"
   ]
  },
  {
   "cell_type": "code",
   "execution_count": 16,
   "metadata": {},
   "outputs": [],
   "source": [
    "train_images_grayscale = np.array([cv2.cvtColor(image, cv2.COLOR_BGR2GRAY) for image in train_images])\n",
    "test_images_grayscale = np.array([cv2.cvtColor(image, cv2.COLOR_BGR2GRAY) for image in test_images])"
   ]
  },
  {
   "cell_type": "code",
   "execution_count": 17,
   "metadata": {},
   "outputs": [
    {
     "data": {
      "image/png": "[encoded data removed]",
      "text/plain": [
       "<Figure size 1200x300 with 4 Axes>"
      ]
     },
     "metadata": {},
     "output_type": "display_data"
    }
   ],
   "source": [
    "titles = [  'Approximation', ' Horizontal detail L1',\n",
    "            'Vertical detail L1','Diagonal detail L1']\n",
    "\n",
    "db1= pywt.dwt2(train_images_grayscale[1], 'db1')\n",
    "LL, (LH, HL, HH) = db1\n",
    "fig = plt.figure(figsize=(12, 3))\n",
    "for i, a in enumerate([LL,LH, HL, HH]):\n",
    "    ax = fig.add_subplot(1, 4, i + 1)\n",
    "    ax.imshow(a, interpolation=\"nearest\", cmap=plt.cm.gray)\n",
    "    ax.set_title(titles[i], fontsize=10)\n",
    "    ax.set_xticks([])\n",
    "    ax.set_yticks([])\n",
    "\n",
    "fig.tight_layout()\n",
    "plt.show()\n",
    "\n"
   ]
  },
  {
   "cell_type": "code",
   "execution_count": 50,
   "metadata": {},
   "outputs": [
    {
     "data": {
      "text/plain": [
       "50000"
      ]
     },
     "execution_count": 50,
     "metadata": {},
     "output_type": "execute_result"
    }
   ],
   "source": [
    "len(train_images_grayscale)"
   ]
  },
  {
   "cell_type": "code",
   "execution_count": 51,
   "metadata": {},
   "outputs": [],
   "source": [
    "train_images_dwt2 = np.empty(shape=(50000,16,16))\n",
    "test_images_dwt2 = np.empty(shape=(10000,16,16))\n",
    "\n",
    "for i in range(len(train_images_grayscale)):\n",
    "    db4 = pywt.dwt2(train_images_grayscale[i], 'db1')\n",
    "    LL, (LH, HL, HH) = db4\n",
    "    train_images_dwt2[i] = LL\n",
    "\n",
    "for i in range(len(test_images_grayscale)):\n",
    "    db4 = pywt.dwt2(test_images_grayscale[i], 'db1')\n",
    "    LL, (LH, HL, HH) = db4\n",
    "    test_images_dwt2[i] = LL"
   ]
  },
  {
   "cell_type": "code",
   "execution_count": 71,
   "metadata": {},
   "outputs": [],
   "source": [
    "xTrain = np.reshape(train_images_dwt2, (train_images_dwt2.shape[0], -1))\n",
    "xTest= np.reshape(test_images_dwt2, (test_images_dwt2.shape[0], -1))\n",
    "\n",
    "xTrain_org = np.reshape(train_images_grayscale, (train_images_grayscale.shape[0], -1))\n",
    "xTest_org = np.reshape(test_images_grayscale, (test_images_grayscale.shape[0], -1))\n",
    "yTrain = train_labels.flatten()\n",
    "yTest = test_labels.flatten()"
   ]
  },
  {
   "cell_type": "code",
   "execution_count": 13,
   "metadata": {},
   "outputs": [],
   "source": [
    "from sklearn.naive_bayes import GaussianNB #NaiveBayes\n",
    "from sklearn.discriminant_analysis import LinearDiscriminantAnalysis, QuadraticDiscriminantAnalysis #LDA, QDA\n",
    "from sklearn.neighbors import NearestCentroid #NM\n",
    "from sklearn.neighbors import KNeighborsClassifier #kNN\n",
    "from sklearn.svm import SVC #SVM"
   ]
  },
  {
   "cell_type": "code",
   "execution_count": 14,
   "metadata": {},
   "outputs": [],
   "source": [
    "classifiers = [\n",
    "    GaussianNB(),\n",
    "    LinearDiscriminantAnalysis(),\n",
    "    NearestCentroid(),\n",
    "    KNeighborsClassifier(n_neighbors=1),\n",
    "    KNeighborsClassifier(n_neighbors=3, algorithm='brute'),\n",
    "    KNeighborsClassifier(n_neighbors=5),\n",
    "    KNeighborsClassifier(n_neighbors=7),\n",
    "    KNeighborsClassifier(n_neighbors=21),\n",
    "    SVC()  \n",
    "]\n"
   ]
  },
  {
   "cell_type": "code",
   "execution_count": 75,
   "metadata": {},
   "outputs": [],
   "source": [
    "def train_test(name, sample, data,label):\n",
    "\n",
    "    X_train, X_test, y_train, y_test = train_test_split(\n",
    "        data, label, test_size=sample, shuffle=True\n",
    "    )\n",
    "    name.fit(X_train,y_train)\n",
    "    predicted = name.predict(X_test)\n",
    "\n",
    "    return predicted, X_test, y_test"
   ]
  },
  {
   "cell_type": "code",
   "execution_count": 13,
   "metadata": {},
   "outputs": [
    {
     "name": "stdout",
     "output_type": "stream",
     "text": [
      "Model:  GaussianNB()\n",
      "Średnia dokłądności:  0.26594999999999996\n",
      "Model:  LinearDiscriminantAnalysis()\n",
      "Średnia dokłądności:  0.268125\n",
      "Model:  NearestCentroid()\n",
      "Średnia dokłądności:  0.2538250000000001\n",
      "Model:  KNeighborsClassifier(n_neighbors=1)\n",
      "Średnia dokłądności:  0.25572500000000004\n",
      "Model:  KNeighborsClassifier(algorithm='brute', n_neighbors=3)\n",
      "Średnia dokłądności:  0.24102499999999996\n",
      "Model:  KNeighborsClassifier()\n",
      "Średnia dokłądności:  0.25559999999999994\n",
      "Model:  KNeighborsClassifier(n_neighbors=7)\n",
      "Średnia dokłądności:  0.2579\n",
      "Model:  KNeighborsClassifier(n_neighbors=21)\n",
      "Średnia dokłądności:  0.259125\n"
     ]
    }
   ],
   "source": [
    "test_sample = 0.4\n",
    "\n",
    "for i in classifiers:\n",
    "  print('Model: ',i)\n",
    "  sumAcc = 0\n",
    "  meanAcc = 0\n",
    "  for j in range(10):\n",
    "      model = i\n",
    "      predicted, X_test, y_test = train_test(i,test_sample, xTest, yTest)\n",
    "      sumAcc += metrics.accuracy_score(y_test, predicted)\n",
    "  meanAcc = sumAcc/10\n",
    "  print('Średnia dokłądności: ',meanAcc)"
   ]
  },
  {
   "cell_type": "code",
   "execution_count": 14,
   "metadata": {},
   "outputs": [
    {
     "name": "stdout",
     "output_type": "stream",
     "text": [
      "Model:  GaussianNB()\n",
      "Średnia dokłądności:  0.27105000000000007\n",
      "Model:  LinearDiscriminantAnalysis()\n",
      "Średnia dokłądności:  0.2699\n",
      "Model:  NearestCentroid()\n",
      "Średnia dokłądności:  0.250675\n",
      "Model:  KNeighborsClassifier(n_neighbors=1)\n",
      "Średnia dokłądności:  0.25329999999999997\n",
      "Model:  KNeighborsClassifier(algorithm='brute', n_neighbors=3)\n",
      "Średnia dokłądności:  0.24207499999999998\n",
      "Model:  KNeighborsClassifier()\n",
      "Średnia dokłądności:  0.25112500000000004\n",
      "Model:  KNeighborsClassifier(n_neighbors=7)\n",
      "Średnia dokłądności:  0.2561\n",
      "Model:  KNeighborsClassifier(n_neighbors=21)\n",
      "Średnia dokłądności:  0.26209999999999994\n"
     ]
    }
   ],
   "source": [
    "test_sample = 0.4\n",
    "\n",
    "for i in classifiers:\n",
    "  print('Model: ',i)\n",
    "  sumAcc = 0\n",
    "  meanAcc = 0\n",
    "  for j in range(10):\n",
    "      model = i\n",
    "      predicted, X_test, y_test = train_test(i,test_sample, xTest, yTest)\n",
    "      sumAcc += metrics.accuracy_score(y_test, predicted)\n",
    "  meanAcc = sumAcc/10\n",
    "  print('Średnia dokłądności: ',meanAcc)"
   ]
  },
  {
   "cell_type": "code",
   "execution_count": 15,
   "metadata": {},
   "outputs": [
    {
     "name": "stdout",
     "output_type": "stream",
     "text": [
      "Model:  GaussianNB()\n",
      "Średnia dokłądności:  0.27054999999999996\n",
      "Model:  LinearDiscriminantAnalysis()\n",
      "Średnia dokłądności:  0.21152500000000002\n",
      "Model:  NearestCentroid()\n",
      "Średnia dokłądności:  0.25272500000000003\n",
      "Model:  KNeighborsClassifier(n_neighbors=1)\n",
      "Średnia dokłądności:  0.242825\n",
      "Model:  KNeighborsClassifier(algorithm='brute', n_neighbors=3)\n",
      "Średnia dokłądności:  0.23325\n",
      "Model:  KNeighborsClassifier()\n",
      "Średnia dokłądności:  0.24245\n",
      "Model:  KNeighborsClassifier(n_neighbors=7)\n",
      "Średnia dokłądności:  0.24907500000000002\n",
      "Model:  KNeighborsClassifier(n_neighbors=21)\n",
      "Średnia dokłądności:  0.2434\n"
     ]
    }
   ],
   "source": [
    "test_sample = 0.4\n",
    "\n",
    "for i in classifiers:\n",
    "  print('Model: ',i)\n",
    "  sumAcc = 0\n",
    "  meanAcc = 0\n",
    "  for j in range(10):\n",
    "      model = i\n",
    "      predicted, X_test, y_test = train_test(i,test_sample, xTest_org, yTest)\n",
    "      sumAcc += metrics.accuracy_score(y_test, predicted)\n",
    "  meanAcc = sumAcc/10\n",
    "  print('Średnia dokłądności: ',meanAcc)"
   ]
  },
  {
   "cell_type": "code",
   "execution_count": 16,
   "metadata": {},
   "outputs": [
    {
     "name": "stdout",
     "output_type": "stream",
     "text": [
      "Model:  GaussianNB()\n",
      "Model:  LinearDiscriminantAnalysis()\n",
      "Model:  NearestCentroid()\n",
      "Model:  KNeighborsClassifier(n_neighbors=1)\n",
      "Model:  KNeighborsClassifier(algorithm='brute', n_neighbors=3)\n",
      "Model:  KNeighborsClassifier()\n",
      "Model:  KNeighborsClassifier(n_neighbors=7)\n",
      "Model:  KNeighborsClassifier(n_neighbors=21)\n"
     ]
    },
    {
     "data": {
      "image/png": "[encoded data removed]",
      "text/plain": [
       "<Figure size 640x480 with 1 Axes>"
      ]
     },
     "metadata": {},
     "output_type": "display_data"
    }
   ],
   "source": [
    "test_sample = [0.2,0.3,0.4,0.5,0.6,0.65,0.7,0.75,0.8,0.85,0.9,0.95]\n",
    "\n",
    "for i in classifiers:\n",
    "    print('Model: ',i)\n",
    "    accPoints = []\n",
    "    acc = 0\n",
    "    for j in test_sample:\n",
    "        model = i\n",
    "        predicted, X_test, y_test = train_test(i,j, xTest, yTest)\n",
    "        acc = metrics.accuracy_score(y_test, predicted)\n",
    "        # print('Dokładność dla próbki: ',j,'wynosi: ',acc)\n",
    "        accPoints.append(acc)\n",
    "    plt.plot(test_sample, accPoints)\n",
    "    plt.grid()\n",
    "    plt.legend(['Bayes','LDA','NM','kNN','kNN3','kNN5','kNN7','kNN21'])"
   ]
  },
  {
   "cell_type": "code",
   "execution_count": 17,
   "metadata": {},
   "outputs": [
    {
     "data": {
      "image/png": "[encoded data removed]",
      "text/plain": [
       "<Figure size 1200x1000 with 10 Axes>"
      ]
     },
     "metadata": {},
     "output_type": "display_data"
    },
    {
     "data": {
      "text/plain": [
       "(6, 6)"
      ]
     },
     "execution_count": 17,
     "metadata": {},
     "output_type": "execute_result"
    }
   ],
   "source": [
    "titles = [  'Approximation', ' Horizontal detail L3',\n",
    "            'Vertical detail L3', 'Diagonal detail L3',\n",
    "            ' Horizontal detail L2','Vertical detail L2',\n",
    "            'Diagonal detail L2', ' Horizontal detail L1',\n",
    "            'Vertical detail L1','Diagonal detail L1']\n",
    "db2 = pywt.wavedec2(train_images_grayscale[1], 'db2')\n",
    "LL3,(LH3, HL3, HH3),(LH2, HL2, HH2) , (LH, HL, HH) = db2\n",
    "fig = plt.figure(figsize=(12, 10))\n",
    "for i, a in enumerate([LL3, LH3, HL3, HH3,LH2, HL2, HH2,LH, HL, HH]):\n",
    "    ax = fig.add_subplot(1, 10, i + 1)\n",
    "    ax.imshow(a, interpolation=\"nearest\", cmap=plt.cm.gray)\n",
    "    ax.set_title(titles[i], fontsize=10)\n",
    "    ax.set_xticks([])\n",
    "    ax.set_yticks([])\n",
    "\n",
    "fig.tight_layout()\n",
    "plt.show()\n",
    "\n",
    "new_train_im = []\n",
    "\n",
    "LH3.shape"
   ]
  },
  {
   "cell_type": "code",
   "execution_count": 18,
   "metadata": {},
   "outputs": [
    {
     "data": {
      "image/png": "[encoded data removed]",
      "text/plain": [
       "<Figure size 1200x300 with 4 Axes>"
      ]
     },
     "metadata": {},
     "output_type": "display_data"
    },
    {
     "data": {
      "text/plain": [
       "(11, 11)"
      ]
     },
     "execution_count": 18,
     "metadata": {},
     "output_type": "execute_result"
    }
   ],
   "source": [
    "titles = [  'Approximation', ' Horizontal detail L2',\n",
    "            'Vertical detail L2','Diagonal detail L2', \n",
    "            ' Horizontal detail L1','Vertical detail L1',\n",
    "            'Diagonal detail L1']\n",
    "db3 = pywt.wavedec2(train_images_grayscale[1], 'db3')\n",
    "LL2,(LH2, HL2, HH2) , (LH, HL, HH) = db3\n",
    "fig = plt.figure(figsize=(12, 3))\n",
    "for i, a in enumerate([LL2,LH2, HL2, HH2]):\n",
    "    ax = fig.add_subplot(1, 4, i + 1)\n",
    "    ax.imshow(a, interpolation=\"nearest\", cmap=plt.cm.gray)\n",
    "    ax.set_title(titles[i], fontsize=10)\n",
    "    ax.set_xticks([])\n",
    "    ax.set_yticks([])\n",
    "\n",
    "fig.tight_layout()\n",
    "plt.show()\n",
    "\n",
    "new_train_im = []\n",
    "LL2.shape"
   ]
  },
  {
   "attachments": {},
   "cell_type": "markdown",
   "metadata": {},
   "source": [
    "### Test"
   ]
  },
  {
   "cell_type": "code",
   "execution_count": 19,
   "metadata": {},
   "outputs": [
    {
     "data": {
      "text/plain": [
       "(50000, 3072)"
      ]
     },
     "execution_count": 19,
     "metadata": {},
     "output_type": "execute_result"
    }
   ],
   "source": [
    "test_sample = 0.4\n",
    "xTrain_orgrgb = np.reshape(train_images, (train_images.shape[0], -1))\n",
    "\n",
    "xTrain_orgrgb.shape\n"
   ]
  },
  {
   "cell_type": "code",
   "execution_count": null,
   "metadata": {},
   "outputs": [],
   "source": [
    "for i in classifiers:\n",
    "  print('Model: ',i)\n",
    "  sumAcc = 0\n",
    "  meanAcc = 0\n",
    "  for j in range(10):\n",
    "      model = i\n",
    "      predicted = train_test(i, xTrain_org, xTest_org)\n",
    "      sumAcc += metrics.accuracy_score(yTest, predicted)\n",
    "  meanAcc = sumAcc/10\n",
    "  print('Średnia dokłądności: ',meanAcc)"
   ]
  },
  {
   "attachments": {},
   "cell_type": "markdown",
   "metadata": {},
   "source": [
    "### MNIST\n"
   ]
  },
  {
   "cell_type": "code",
   "execution_count": 2,
   "metadata": {},
   "outputs": [
    {
     "name": "stderr",
     "output_type": "stream",
     "text": [
      "Found cached dataset mnist (C:/Users/krojc/.cache/huggingface/datasets/mnist/mnist/1.0.0/9d494b7f466d6931c64fb39d58bb1249a4d85c9eb9865d9bc20960b999e2a332)\n"
     ]
    },
    {
     "data": {
      "application/vnd.jupyter.widget-view+json": {
       "model_id": "1359a0c4a2de4b1ab7c1a0dab0ec622a",
       "version_major": 2,
       "version_minor": 0
      },
      "text/plain": [
       "  0%|          | 0/2 [00:00<?, ?it/s]"
      ]
     },
     "metadata": {},
     "output_type": "display_data"
    }
   ],
   "source": [
    "from datasets import load_dataset\n",
    "\n",
    "dataset = load_dataset(\"mnist\")"
   ]
  },
  {
   "cell_type": "code",
   "execution_count": 3,
   "metadata": {},
   "outputs": [
    {
     "data": {
      "text/plain": [
       "DatasetDict({\n",
       "    train: Dataset({\n",
       "        features: ['image', 'label'],\n",
       "        num_rows: 60000\n",
       "    })\n",
       "    test: Dataset({\n",
       "        features: ['image', 'label'],\n",
       "        num_rows: 10000\n",
       "    })\n",
       "})"
      ]
     },
     "execution_count": 3,
     "metadata": {},
     "output_type": "execute_result"
    }
   ],
   "source": [
    "dataset"
   ]
  },
  {
   "cell_type": "code",
   "execution_count": 4,
   "metadata": {},
   "outputs": [],
   "source": [
    "X_test_mnist = np.empty(shape=(10000,28,28))\n",
    "y_test_mnist = np.empty(shape=(10000))\n",
    "X_train_mnist = np.empty(shape=(60000,28,28))\n",
    "y_train_mnist = np.empty(shape=(60000))\n",
    "\n",
    "# X = np.array(dataset['train'][1]['image'])\n",
    "for i in range(60000):\n",
    "    X_train_mnist[i] = np.array(dataset['train'][i]['image'])\n",
    "    y_train_mnist[i] = np.array(dataset['train'][i]['label'])\n",
    "for i in range(10000):\n",
    "    X_test_mnist[i] = np.array(dataset['test'][i]['image'])\n",
    "    y_test_mnist[i] = np.array(dataset['test'][i]['label'])\n"
   ]
  },
  {
   "cell_type": "code",
   "execution_count": 5,
   "metadata": {},
   "outputs": [],
   "source": [
    "xTrain_mnist = np.reshape(X_train_mnist, (X_train_mnist.shape[0], -1))\n",
    "xTest_mnist = np.reshape(X_test_mnist, (X_test_mnist.shape[0], -1))\n",
    "\n",
    "y_train_mnist = np.array(y_train_mnist, dtype=int)\n",
    "y_test_mnist = np.array(y_test_mnist, dtype=int)"
   ]
  },
  {
   "cell_type": "code",
   "execution_count": 6,
   "metadata": {},
   "outputs": [],
   "source": [
    "def fit_model(name, sample, data,label):\n",
    "\n",
    "    X_train, X_test, y_train, y_test = train_test_split(\n",
    "        data, label, test_size=sample, shuffle=True\n",
    "    )\n",
    "    name.fit(X_train,y_train)\n",
    "    predicted = name.predict(X_test)\n",
    "\n",
    "    return predicted, X_test, y_test"
   ]
  },
  {
   "cell_type": "code",
   "execution_count": 15,
   "metadata": {},
   "outputs": [
    {
     "name": "stdout",
     "output_type": "stream",
     "text": [
      "Model:  GaussianNB()\n",
      "Średnia dokłądności:  0.5781500000000002\n",
      "Model:  LinearDiscriminantAnalysis()\n",
      "Średnia dokłądności:  0.8547\n",
      "Model:  NearestCentroid()\n",
      "Średnia dokłądności:  0.8215\n",
      "Model:  KNeighborsClassifier(n_neighbors=1)\n",
      "Średnia dokłądności:  0.9459250000000001\n",
      "Model:  KNeighborsClassifier(algorithm='brute', n_neighbors=3)\n",
      "Średnia dokłądności:  0.943875\n",
      "Model:  KNeighborsClassifier()\n",
      "Średnia dokłądności:  0.94215\n",
      "Model:  KNeighborsClassifier(n_neighbors=7)\n",
      "Średnia dokłądności:  0.9403749999999998\n",
      "Model:  KNeighborsClassifier(n_neighbors=21)\n",
      "Średnia dokłądności:  0.9232000000000001\n",
      "Model:  SVC()\n",
      "Średnia dokłądności:  0.9587249999999999\n"
     ]
    }
   ],
   "source": [
    "test_sample = 0.4\n",
    "\n",
    "for i in classifiers:\n",
    "  print('Model: ',i)\n",
    "  sumAcc = 0\n",
    "  meanAcc = 0\n",
    "  for j in range(10):\n",
    "      model = i\n",
    "      predicted, X_test, y_test = fit_model(i,test_sample, xTest_mnist, y_test_mnist)\n",
    "      sumAcc += metrics.accuracy_score(y_test, predicted)\n",
    "  meanAcc = sumAcc/10\n",
    "  print('Średnia dokłądności: ',meanAcc)"
   ]
  },
  {
   "attachments": {},
   "cell_type": "markdown",
   "metadata": {},
   "source": [
    "### Haar"
   ]
  },
  {
   "cell_type": "code",
   "execution_count": 44,
   "metadata": {},
   "outputs": [
    {
     "data": {
      "image/png": "[encoded data removed]",
      "text/plain": [
       "<Figure size 1200x300 with 4 Axes>"
      ]
     },
     "metadata": {},
     "output_type": "display_data"
    },
    {
     "data": {
      "text/plain": [
       "(14, 14)"
      ]
     },
     "execution_count": 44,
     "metadata": {},
     "output_type": "execute_result"
    }
   ],
   "source": [
    "titles = [  'Approximation', ' Horizontal detail L1',\n",
    "            'Vertical detail L1','Diagonal detail L1']\n",
    "haar= pywt.dwt2(X_test_mnist[1], 'db1')\n",
    "\n",
    "LL,((LH, HL, HH)) = haar\n",
    "fig = plt.figure(figsize=(12, 3))\n",
    "for i, a in enumerate([LL,LH, HL, HH]):\n",
    "    ax = fig.add_subplot(1, 4, i + 1)\n",
    "    ax.imshow(a, interpolation=\"nearest\", cmap=plt.cm.gray)\n",
    "    ax.set_title(titles[i], fontsize=10)\n",
    "    ax.set_xticks([])\n",
    "    ax.set_yticks([])\n",
    "\n",
    "fig.tight_layout()\n",
    "plt.show()\n",
    "\n",
    "LL.shape"
   ]
  },
  {
   "cell_type": "code",
   "execution_count": 18,
   "metadata": {},
   "outputs": [],
   "source": [
    "train_images_haar = np.empty(shape=(60000,14,14))\n",
    "test_images_haar = np.empty(shape=(10000,14,14))\n",
    "\n",
    "for i in range(len(X_train_mnist)):\n",
    "    db_haar_mnist_train = pywt.dwt2(X_train_mnist[i], 'db1')\n",
    "    LL, (LH, HL, HH) = db_haar_mnist_train\n",
    "    train_images_haar[i] = LL\n",
    "\n",
    "for i in range(len(X_test_mnist)):\n",
    "    db_haar_mnist_test = pywt.dwt2(X_test_mnist[i], 'db1')\n",
    "    LL, (LH, HL, HH) = db_haar_mnist_test\n",
    "    test_images_haar[i] = LL"
   ]
  },
  {
   "cell_type": "code",
   "execution_count": 19,
   "metadata": {},
   "outputs": [],
   "source": [
    "xTrain_mnist_haar = np.reshape(train_images_haar, (train_images_haar.shape[0], -1))\n",
    "xTest_mnist_haar = np.reshape(test_images_haar, (test_images_haar.shape[0], -1))"
   ]
  },
  {
   "cell_type": "code",
   "execution_count": 20,
   "metadata": {},
   "outputs": [
    {
     "name": "stdout",
     "output_type": "stream",
     "text": [
      "Model:  GaussianNB()\n",
      "Średnia dokłądności:  0.5865750000000001\n",
      "Model:  LinearDiscriminantAnalysis()\n",
      "Średnia dokłądności:  0.87035\n",
      "Model:  NearestCentroid()\n",
      "Średnia dokłądności:  0.8155000000000001\n",
      "Model:  KNeighborsClassifier(n_neighbors=1)\n",
      "Średnia dokłądności:  0.9541000000000001\n",
      "Model:  KNeighborsClassifier(algorithm='brute', n_neighbors=3)\n",
      "Średnia dokłądności:  0.95325\n",
      "Model:  KNeighborsClassifier()\n",
      "Średnia dokłądności:  0.9498999999999999\n",
      "Model:  KNeighborsClassifier(n_neighbors=7)\n",
      "Średnia dokłądności:  0.947575\n",
      "Model:  KNeighborsClassifier(n_neighbors=21)\n",
      "Średnia dokłądności:  0.931\n",
      "Model:  SVC()\n",
      "Średnia dokłądności:  0.9595499999999999\n"
     ]
    }
   ],
   "source": [
    "test_sample = 0.4\n",
    "\n",
    "for i in classifiers:\n",
    "  print('Model: ',i)\n",
    "  sumAcc = 0\n",
    "  meanAcc = 0\n",
    "  for j in range(10):\n",
    "      model = i\n",
    "      predicted, X_test, y_test = fit_model(i,test_sample, xTest_mnist_haar, y_test_mnist)\n",
    "      sumAcc += metrics.accuracy_score(y_test, predicted)\n",
    "  meanAcc = sumAcc/10\n",
    "  print('Średnia dokłądności: ',meanAcc)"
   ]
  },
  {
   "cell_type": "code",
   "execution_count": 55,
   "metadata": {},
   "outputs": [],
   "source": [
    "train_images_haar_2 = np.empty(shape=(60000,7,7))\n",
    "test_images_haar_2 = np.empty(shape=(10000,7,7))\n",
    "\n",
    "for i in range(len(train_images_haar)):\n",
    "    db_haar_mnist_train = pywt.dwt2(train_images_haar[i], 'db1')\n",
    "    LL, (LH, HL, HH) = db_haar_mnist_train\n",
    "    train_images_haar_2[i] = LL\n",
    "\n",
    "for i in range(len(test_images_haar)):\n",
    "    db_haar_mnist_test = pywt.dwt2(test_images_haar[i], 'db1')\n",
    "    LL, (LH, HL, HH) = db_haar_mnist_test\n",
    "    test_images_haar_2[i] = LL"
   ]
  },
  {
   "cell_type": "code",
   "execution_count": 56,
   "metadata": {},
   "outputs": [],
   "source": [
    "xTrain_mnist_haar_2 = np.reshape(train_images_haar_2, (train_images_haar_2.shape[0], -1))\n",
    "xTest_mnist_haar_2 = np.reshape(test_images_haar_2, (test_images_haar_2.shape[0], -1))"
   ]
  },
  {
   "cell_type": "code",
   "execution_count": 57,
   "metadata": {},
   "outputs": [
    {
     "name": "stdout",
     "output_type": "stream",
     "text": [
      "Model:  GaussianNB()\n",
      "Średnia dokłądności:  0.46167500000000006\n",
      "Model:  LinearDiscriminantAnalysis()\n",
      "Średnia dokłądności:  0.8504750000000001\n",
      "Model:  NearestCentroid()\n",
      "Średnia dokłądności:  0.7834499999999999\n",
      "Model:  KNeighborsClassifier(n_neighbors=1)\n",
      "Średnia dokłądności:  0.928125\n",
      "Model:  KNeighborsClassifier(algorithm='brute', n_neighbors=3)\n",
      "Średnia dokłądności:  0.931175\n",
      "Model:  KNeighborsClassifier()\n",
      "Średnia dokłądności:  0.9329749999999999\n",
      "Model:  KNeighborsClassifier(n_neighbors=7)\n",
      "Średnia dokłądności:  0.9294999999999998\n",
      "Model:  KNeighborsClassifier(n_neighbors=21)\n",
      "Średnia dokłądności:  0.9131499999999999\n",
      "Model:  SVC()\n",
      "Średnia dokłądności:  0.9424999999999999\n"
     ]
    }
   ],
   "source": [
    "test_sample = 0.4\n",
    "\n",
    "for i in classifiers:\n",
    "  print('Model: ',i)\n",
    "  sumAcc = 0\n",
    "  meanAcc = 0\n",
    "  for j in range(10):\n",
    "      model = i\n",
    "      predicted, X_test, y_test = fit_model(i,test_sample, xTest_mnist_haar_2, y_test_mnist)\n",
    "      sumAcc += metrics.accuracy_score(y_test, predicted)\n",
    "  meanAcc = sumAcc/10\n",
    "  print('Średnia dokłądności: ',meanAcc)"
   ]
  },
  {
   "cell_type": "code",
   "execution_count": 58,
   "metadata": {},
   "outputs": [],
   "source": [
    "train_images_haar_3 = np.empty(shape=(60000,4,4))\n",
    "test_images_haar_3 = np.empty(shape=(10000,4,4))\n",
    "\n",
    "for i in range(len(train_images_haar_2)):\n",
    "    db_haar_mnist_train = pywt.dwt2(train_images_haar_2[i], 'db1')\n",
    "    LL, (LH, HL, HH) = db_haar_mnist_train\n",
    "    train_images_haar_3[i] = LL\n",
    "\n",
    "for i in range(len(test_images_haar_2)):\n",
    "    db_haar_mnist_test = pywt.dwt2(test_images_haar_2[i], 'db1')\n",
    "    LL, (LH, HL, HH) = db_haar_mnist_test\n",
    "    test_images_haar_3[i] = LL"
   ]
  },
  {
   "cell_type": "code",
   "execution_count": 59,
   "metadata": {},
   "outputs": [],
   "source": [
    "xTrain_mnist_haar_3 = np.reshape(train_images_haar_3, (train_images_haar_3.shape[0], -1))\n",
    "xTest_mnist_haar_3 = np.reshape(test_images_haar_3, (test_images_haar_3.shape[0], -1))"
   ]
  },
  {
   "cell_type": "code",
   "execution_count": 60,
   "metadata": {},
   "outputs": [
    {
     "name": "stdout",
     "output_type": "stream",
     "text": [
      "Model:  GaussianNB()\n",
      "Średnia dokłądności:  0.3756\n",
      "Model:  LinearDiscriminantAnalysis()\n",
      "Średnia dokłądności:  0.6668499999999999\n",
      "Model:  NearestCentroid()\n",
      "Średnia dokłądności:  0.5417749999999999\n",
      "Model:  KNeighborsClassifier(n_neighbors=1)\n",
      "Średnia dokłądności:  0.7015\n",
      "Model:  KNeighborsClassifier(algorithm='brute', n_neighbors=3)\n",
      "Średnia dokłądności:  0.721225\n",
      "Model:  KNeighborsClassifier()\n",
      "Średnia dokłądności:  0.7372249999999999\n",
      "Model:  KNeighborsClassifier(n_neighbors=7)\n",
      "Średnia dokłądności:  0.74055\n",
      "Model:  KNeighborsClassifier(n_neighbors=21)\n",
      "Średnia dokłądności:  0.73795\n",
      "Model:  SVC()\n",
      "Średnia dokłądności:  0.769975\n"
     ]
    }
   ],
   "source": [
    "test_sample = 0.4\n",
    "\n",
    "for i in classifiers:\n",
    "  print('Model: ',i)\n",
    "  sumAcc = 0\n",
    "  meanAcc = 0\n",
    "  for j in range(10):\n",
    "      model = i\n",
    "      predicted, X_test, y_test = fit_model(i,test_sample, xTest_mnist_haar_3, y_test_mnist)\n",
    "      sumAcc += metrics.accuracy_score(y_test, predicted)\n",
    "  meanAcc = sumAcc/10\n",
    "  print('Średnia dokłądności: ',meanAcc)"
   ]
  },
  {
   "attachments": {},
   "cell_type": "markdown",
   "metadata": {},
   "source": [
    "### DB2"
   ]
  },
  {
   "cell_type": "code",
   "execution_count": 7,
   "metadata": {},
   "outputs": [
    {
     "data": {
      "image/png": "[encoded data removed]",
      "text/plain": [
       "<Figure size 1200x300 with 4 Axes>"
      ]
     },
     "metadata": {},
     "output_type": "display_data"
    },
    {
     "data": {
      "image/png": "[encoded data removed]",
      "text/plain": [
       "<Figure size 1200x300 with 4 Axes>"
      ]
     },
     "metadata": {},
     "output_type": "display_data"
    },
    {
     "data": {
      "image/png": "[encoded data removed]",
      "text/plain": [
       "<Figure size 1200x300 with 4 Axes>"
      ]
     },
     "metadata": {},
     "output_type": "display_data"
    },
    {
     "name": "stdout",
     "output_type": "stream",
     "text": [
      "(15, 15) (9, 9) (6, 6)\n"
     ]
    }
   ],
   "source": [
    "titles = [  'Approximation L1', ' Horizontal detail L1',\n",
    "            'Vertical detail L1','Diagonal detail L1']\n",
    "db2= pywt.dwt2(X_test_mnist[1], 'db2')\n",
    "\n",
    "LL,((LH, HL, HH)) = db2\n",
    "fig = plt.figure(figsize=(12, 3))\n",
    "for i, a in enumerate([LL,LH, HL, HH]):\n",
    "    ax = fig.add_subplot(1, 4, i + 1)\n",
    "    ax.imshow(a, interpolation=\"nearest\", cmap=plt.cm.gray)\n",
    "    ax.set_title(titles[i], fontsize=10)\n",
    "    ax.set_xticks([])\n",
    "    ax.set_yticks([])\n",
    "\n",
    "fig.tight_layout()\n",
    "plt.show()\n",
    "\n",
    "\n",
    "titles = [  'Approximation L2', ' Horizontal detail L2',\n",
    "            'Vertical detail L2','Diagonal detail L2']\n",
    "db2= pywt.dwt2(LL, 'db2')\n",
    "\n",
    "LL1,((LH1, HL1, HH1)) = db2\n",
    "fig = plt.figure(figsize=(12, 3))\n",
    "for i, a in enumerate([LL1,LH1, HL1, HH1]):\n",
    "    ax = fig.add_subplot(1, 4, i + 1)\n",
    "    ax.imshow(a, interpolation=\"nearest\", cmap=plt.cm.gray)\n",
    "    ax.set_title(titles[i], fontsize=10)\n",
    "    ax.set_xticks([])\n",
    "    ax.set_yticks([])\n",
    "\n",
    "fig.tight_layout()\n",
    "plt.show()\n",
    "titles = [  'Approximation L3', ' Horizontal detail L3',\n",
    "            'Vertical detail L3','Diagonal detail L3']\n",
    "db2= pywt.dwt2(LL1, 'db2')\n",
    "\n",
    "LL2,((LH2, HL2, HH2)) = db2\n",
    "fig = plt.figure(figsize=(12, 3))\n",
    "for i, a in enumerate([LL2,LH2, HL2, HH2]):\n",
    "    ax = fig.add_subplot(1, 4, i + 1)\n",
    "    ax.imshow(a, interpolation=\"nearest\", cmap=plt.cm.gray)\n",
    "    ax.set_title(titles[i], fontsize=10)\n",
    "    ax.set_xticks([])\n",
    "    ax.set_yticks([])\n",
    "\n",
    "fig.tight_layout()\n",
    "plt.show()\n",
    "\n",
    "print(LL.shape,LL1.shape,LL2.shape)\n",
    "\n"
   ]
  },
  {
   "cell_type": "code",
   "execution_count": 8,
   "metadata": {},
   "outputs": [],
   "source": [
    "train_images_db2 = np.empty(shape=(60000,15,15))\n",
    "test_images_db2 = np.empty(shape=(10000,15,15))\n",
    "\n",
    "for i in range(len(X_train_mnist)):\n",
    "    db_2_mnist_train = pywt.dwt2(X_train_mnist[i], 'db2')\n",
    "    LL, (LH, HL, HH) = db_2_mnist_train\n",
    "    train_images_db2[i] = LL\n",
    "\n",
    "for i in range(len(X_test_mnist)):\n",
    "    db_2_mnist_test = pywt.dwt2(X_test_mnist[i], 'db2')\n",
    "    LL, (LH, HL, HH) = db_2_mnist_test\n",
    "    test_images_db2[i] = LL"
   ]
  },
  {
   "cell_type": "code",
   "execution_count": 9,
   "metadata": {},
   "outputs": [],
   "source": [
    "xTrain_mnist_db2 = np.reshape(train_images_db2, (train_images_db2.shape[0], -1))\n",
    "xTest_mnist_db2 = np.reshape(test_images_db2, (test_images_db2.shape[0], -1))"
   ]
  },
  {
   "cell_type": "code",
   "execution_count": 75,
   "metadata": {},
   "outputs": [
    {
     "name": "stdout",
     "output_type": "stream",
     "text": [
      "Model:  GaussianNB()\n",
      "Średnia dokłądności:  0.5975500000000001\n",
      "Model:  LinearDiscriminantAnalysis()\n",
      "Średnia dokłądności:  0.87005\n",
      "Model:  NearestCentroid()\n",
      "Średnia dokłądności:  0.819525\n",
      "Model:  KNeighborsClassifier(n_neighbors=1)\n",
      "Średnia dokłądności:  0.95275\n",
      "Model:  KNeighborsClassifier(algorithm='brute', n_neighbors=3)\n",
      "Średnia dokłądności:  0.9531749999999999\n",
      "Model:  KNeighborsClassifier()\n",
      "Średnia dokłądności:  0.952125\n",
      "Model:  KNeighborsClassifier(n_neighbors=7)\n",
      "Średnia dokłądności:  0.9482500000000001\n",
      "Model:  KNeighborsClassifier(n_neighbors=21)\n",
      "Średnia dokłądności:  0.9301000000000001\n",
      "Model:  SVC()\n",
      "Średnia dokłądności:  0.9609\n"
     ]
    }
   ],
   "source": [
    "test_sample = 0.4\n",
    "\n",
    "for i in classifiers:\n",
    "  print('Model: ',i)\n",
    "  sumAcc = 0\n",
    "  meanAcc = 0\n",
    "  for j in range(10):\n",
    "      model = i\n",
    "      predicted, X_test, y_test = fit_model(i,test_sample, xTest_mnist_db2, y_test_mnist)\n",
    "      sumAcc += metrics.accuracy_score(y_test, predicted)\n",
    "  meanAcc = sumAcc/10\n",
    "  print('Średnia dokłądności: ',meanAcc)"
   ]
  },
  {
   "attachments": {},
   "cell_type": "markdown",
   "metadata": {},
   "source": [
    "### DB2 L2"
   ]
  },
  {
   "cell_type": "code",
   "execution_count": 10,
   "metadata": {},
   "outputs": [],
   "source": [
    "train_images_db2_2 = np.empty(shape=(60000,9,9))\n",
    "test_images_db2_2 = np.empty(shape=(10000,9,9))\n",
    "\n",
    "for i in range(len(train_images_db2)):\n",
    "    db_2_mnist_train = pywt.dwt2(train_images_db2[i], 'db2')\n",
    "    LL, (LH, HL, HH) = db_2_mnist_train\n",
    "    train_images_db2_2[i] = LL\n",
    "\n",
    "for i in range(len(test_images_db2)):\n",
    "    db_2_mnist_test = pywt.dwt2(test_images_db2[i], 'db2')\n",
    "    LL, (LH, HL, HH) = db_2_mnist_test\n",
    "    test_images_db2_2[i] = LL"
   ]
  },
  {
   "cell_type": "code",
   "execution_count": 11,
   "metadata": {},
   "outputs": [],
   "source": [
    "xTrain_mnist_db2_2 = np.reshape(train_images_db2_2, (train_images_db2_2.shape[0], -1))\n",
    "xTest_mnist_db2_2 = np.reshape(test_images_db2_2, (test_images_db2_2.shape[0], -1))"
   ]
  },
  {
   "cell_type": "code",
   "execution_count": 15,
   "metadata": {},
   "outputs": [
    {
     "name": "stdout",
     "output_type": "stream",
     "text": [
      "Model:  GaussianNB()\n",
      "Średnia dokłądności:  0.5631999999999999\n",
      "Model:  LinearDiscriminantAnalysis()\n",
      "Średnia dokłądności:  0.84595\n",
      "Model:  NearestCentroid()\n",
      "Średnia dokłądności:  0.77835\n",
      "Model:  KNeighborsClassifier(n_neighbors=1)\n",
      "Średnia dokłądności:  0.9273000000000001\n",
      "Model:  KNeighborsClassifier(algorithm='brute', n_neighbors=3)\n",
      "Średnia dokłądności:  0.933425\n",
      "Model:  KNeighborsClassifier()\n",
      "Średnia dokłądności:  0.9316249999999998\n",
      "Model:  KNeighborsClassifier(n_neighbors=7)\n",
      "Średnia dokłądności:  0.9301750000000002\n",
      "Model:  KNeighborsClassifier(n_neighbors=21)\n",
      "Średnia dokłądności:  0.912725\n",
      "Model:  SVC()\n",
      "Średnia dokłądności:  0.9427249999999999\n"
     ]
    }
   ],
   "source": [
    "test_sample = 0.4\n",
    "\n",
    "for i in classifiers:\n",
    "  print('Model: ',i)\n",
    "  sumAcc = 0\n",
    "  meanAcc = 0\n",
    "  for j in range(10):\n",
    "      model = i\n",
    "      predicted, X_test, y_test = fit_model(i,test_sample, xTest_mnist_db2_2, y_test_mnist)\n",
    "      sumAcc += metrics.accuracy_score(y_test, predicted)\n",
    "  meanAcc = sumAcc/10\n",
    "  print('Średnia dokłądności: ',meanAcc)"
   ]
  },
  {
   "attachments": {},
   "cell_type": "markdown",
   "metadata": {},
   "source": [
    "### DB2 L3"
   ]
  },
  {
   "cell_type": "code",
   "execution_count": 17,
   "metadata": {},
   "outputs": [],
   "source": [
    "train_images_db2_3 = np.empty(shape=(60000,6,6))\n",
    "test_images_db2_3 = np.empty(shape=(10000,6,6))\n",
    "\n",
    "for i in range(len(train_images_db2_2)):\n",
    "    db_2_mnist_train = pywt.dwt2(train_images_db2_2[i], 'db2')\n",
    "    LL, (LH, HL, HH) = db_2_mnist_train\n",
    "    train_images_db2_3[i] = LL\n",
    "\n",
    "for i in range(len(test_images_db2_2)):\n",
    "    db_2_mnist_test = pywt.dwt2(test_images_db2_2[i], 'db2')\n",
    "    LL, (LH, HL, HH) = db_2_mnist_test\n",
    "    test_images_db2_3[i] = LL"
   ]
  },
  {
   "cell_type": "code",
   "execution_count": 18,
   "metadata": {},
   "outputs": [],
   "source": [
    "xTrain_mnist_db2_3 = np.reshape(train_images_db2_3, (train_images_db2_3.shape[0], -1))\n",
    "xTest_mnist_db2_3 = np.reshape(test_images_db2_3, (test_images_db2_3.shape[0], -1))"
   ]
  },
  {
   "cell_type": "code",
   "execution_count": 19,
   "metadata": {},
   "outputs": [
    {
     "name": "stdout",
     "output_type": "stream",
     "text": [
      "Model:  GaussianNB()\n",
      "Średnia dokłądności:  0.6302999999999999\n",
      "Model:  LinearDiscriminantAnalysis()\n",
      "Średnia dokłądności:  0.76475\n",
      "Model:  NearestCentroid()\n",
      "Średnia dokłądności:  0.5972\n",
      "Model:  KNeighborsClassifier(n_neighbors=1)\n",
      "Średnia dokłądności:  0.77455\n",
      "Model:  KNeighborsClassifier(algorithm='brute', n_neighbors=3)\n",
      "Średnia dokłądności:  0.7909750000000001\n",
      "Model:  KNeighborsClassifier()\n",
      "Średnia dokłądności:  0.80135\n",
      "Model:  KNeighborsClassifier(n_neighbors=7)\n",
      "Średnia dokłądności:  0.8043000000000001\n",
      "Model:  KNeighborsClassifier(n_neighbors=21)\n",
      "Średnia dokłądności:  0.7890249999999999\n",
      "Model:  SVC()\n",
      "Średnia dokłądności:  0.8236999999999999\n"
     ]
    }
   ],
   "source": [
    "test_sample = 0.4\n",
    "\n",
    "for i in classifiers:\n",
    "  print('Model: ',i)\n",
    "  sumAcc = 0\n",
    "  meanAcc = 0\n",
    "  for j in range(10):\n",
    "      model = i\n",
    "      predicted, X_test, y_test = fit_model(i,test_sample, xTest_mnist_db2_3, y_test_mnist)\n",
    "      sumAcc += metrics.accuracy_score(y_test, predicted)\n",
    "  meanAcc = sumAcc/10\n",
    "  print('Średnia dokłądności: ',meanAcc)"
   ]
  },
  {
   "attachments": {},
   "cell_type": "markdown",
   "metadata": {},
   "source": [
    "### DB3"
   ]
  },
  {
   "cell_type": "code",
   "execution_count": 20,
   "metadata": {},
   "outputs": [
    {
     "data": {
      "image/png": "[encoded data removed]",
      "text/plain": [
       "<Figure size 1200x300 with 4 Axes>"
      ]
     },
     "metadata": {},
     "output_type": "display_data"
    },
    {
     "data": {
      "image/png": "[encoded data removed]",
      "text/plain": [
       "<Figure size 1200x300 with 4 Axes>"
      ]
     },
     "metadata": {},
     "output_type": "display_data"
    },
    {
     "data": {
      "image/png": "[encoded data removed]",
      "text/plain": [
       "<Figure size 1200x300 with 4 Axes>"
      ]
     },
     "metadata": {},
     "output_type": "display_data"
    },
    {
     "name": "stdout",
     "output_type": "stream",
     "text": [
      "(16, 16) (10, 10) (7, 7)\n"
     ]
    }
   ],
   "source": [
    "titles = [  'Approximation L1', ' Horizontal detail L1',\n",
    "            'Vertical detail L1','Diagonal detail L1']\n",
    "\n",
    "db3= pywt.dwt2(X_test_mnist[1], 'db3')\n",
    "\n",
    "LL,((LH, HL, HH)) = db3\n",
    "fig = plt.figure(figsize=(12, 3))\n",
    "for i, a in enumerate([LL,LH, HL, HH]):\n",
    "    ax = fig.add_subplot(1, 4, i + 1)\n",
    "    ax.imshow(a, interpolation=\"nearest\", cmap=plt.cm.gray)\n",
    "    ax.set_title(titles[i], fontsize=10)\n",
    "    ax.set_xticks([])\n",
    "    ax.set_yticks([])\n",
    "\n",
    "fig.tight_layout()\n",
    "plt.show()\n",
    "\n",
    "titles = [  'Approximation L2', ' Horizontal detail L2',\n",
    "            'Vertical detail L2','Diagonal detail L2']\n",
    "db3= pywt.dwt2(LL, 'db3')\n",
    "\n",
    "LL1,((LH1, HL1, HH1)) = db3\n",
    "fig = plt.figure(figsize=(12, 3))\n",
    "for i, a in enumerate([LL1,LH1, HL1, HH1]):\n",
    "    ax = fig.add_subplot(1, 4, i + 1)\n",
    "    ax.imshow(a, interpolation=\"nearest\", cmap=plt.cm.gray)\n",
    "    ax.set_title(titles[i], fontsize=10)\n",
    "    ax.set_xticks([])\n",
    "    ax.set_yticks([])\n",
    "\n",
    "fig.tight_layout()\n",
    "plt.show()\n",
    "\n",
    "titles = [  'Approximation L3', ' Horizontal detail L3',\n",
    "            'Vertical detail L3','Diagonal detail L3']\n",
    "\n",
    "db3= pywt.dwt2(LL1, 'db3')\n",
    "\n",
    "LL2,((LH2, HL2, HH2)) = db3\n",
    "fig = plt.figure(figsize=(12, 3))\n",
    "for i, a in enumerate([LL2,LH2, HL2, HH2]):\n",
    "    ax = fig.add_subplot(1, 4, i + 1)\n",
    "    ax.imshow(a, interpolation=\"nearest\", cmap=plt.cm.gray)\n",
    "    ax.set_title(titles[i], fontsize=10)\n",
    "    ax.set_xticks([])\n",
    "    ax.set_yticks([])\n",
    "\n",
    "fig.tight_layout()\n",
    "plt.show()\n",
    "\n",
    "print(LL.shape,LL1.shape,LL2.shape)"
   ]
  },
  {
   "attachments": {},
   "cell_type": "markdown",
   "metadata": {},
   "source": [
    "### L1"
   ]
  },
  {
   "cell_type": "code",
   "execution_count": 21,
   "metadata": {},
   "outputs": [],
   "source": [
    "train_images_db3 = np.empty(shape=(60000,16,16))\n",
    "test_images_db3 = np.empty(shape=(10000,16,16))\n",
    "\n",
    "for i in range(len(X_train_mnist)):\n",
    "    db_2_mnist_train = pywt.dwt2(X_train_mnist[i], 'db3')\n",
    "    LL, (LH, HL, HH) = db_2_mnist_train\n",
    "    train_images_db3[i] = LL\n",
    "\n",
    "for i in range(len(X_test_mnist)):\n",
    "    db_2_mnist_test = pywt.dwt2(X_test_mnist[i], 'db3')\n",
    "    LL, (LH, HL, HH) = db_2_mnist_test\n",
    "    test_images_db3[i] = LL"
   ]
  },
  {
   "cell_type": "code",
   "execution_count": 22,
   "metadata": {},
   "outputs": [],
   "source": [
    "xTrain_mnist_db3 = np.reshape(train_images_db3, (train_images_db3.shape[0], -1))\n",
    "xTest_mnist_db3 = np.reshape(test_images_db3, (test_images_db3.shape[0], -1))"
   ]
  },
  {
   "cell_type": "code",
   "execution_count": 23,
   "metadata": {},
   "outputs": [
    {
     "name": "stdout",
     "output_type": "stream",
     "text": [
      "Model:  GaussianNB()\n",
      "Średnia dokłądności:  0.5343\n",
      "Model:  LinearDiscriminantAnalysis()\n",
      "Średnia dokłądności:  0.8676250000000001\n",
      "Model:  NearestCentroid()\n",
      "Średnia dokłądności:  0.8182750000000001\n",
      "Model:  KNeighborsClassifier(n_neighbors=1)\n",
      "Średnia dokłądności:  0.9530999999999998\n",
      "Model:  KNeighborsClassifier(algorithm='brute', n_neighbors=3)\n",
      "Średnia dokłądności:  0.9503999999999998\n",
      "Model:  KNeighborsClassifier()\n",
      "Średnia dokłądności:  0.9522999999999999\n",
      "Model:  KNeighborsClassifier(n_neighbors=7)\n",
      "Średnia dokłądności:  0.948275\n",
      "Model:  KNeighborsClassifier(n_neighbors=21)\n",
      "Średnia dokłądności:  0.931875\n",
      "Model:  SVC()\n",
      "Średnia dokłądności:  0.9625749999999998\n"
     ]
    }
   ],
   "source": [
    "test_sample = 0.4\n",
    "\n",
    "for i in classifiers:\n",
    "  print('Model: ',i)\n",
    "  sumAcc = 0\n",
    "  meanAcc = 0\n",
    "  for j in range(10):\n",
    "      model = i\n",
    "      predicted, X_test, y_test = fit_model(i,test_sample, xTest_mnist_db3, y_test_mnist)\n",
    "      sumAcc += metrics.accuracy_score(y_test, predicted)\n",
    "  meanAcc = sumAcc/10\n",
    "  print('Średnia dokłądności: ',meanAcc)"
   ]
  },
  {
   "attachments": {},
   "cell_type": "markdown",
   "metadata": {},
   "source": [
    "### L2"
   ]
  },
  {
   "cell_type": "code",
   "execution_count": 24,
   "metadata": {},
   "outputs": [],
   "source": [
    "train_images_db3_2 = np.empty(shape=(60000,10,10))\n",
    "test_images_db3_2 = np.empty(shape=(10000,10,10))\n",
    "\n",
    "for i in range(len(train_images_db3)):\n",
    "    db_2_mnist_train = pywt.dwt2(train_images_db3[i], 'db3')\n",
    "    LL, (LH, HL, HH) = db_2_mnist_train\n",
    "    train_images_db3_2[i] = LL\n",
    "\n",
    "for i in range(len(test_images_db3)):\n",
    "    db_2_mnist_test = pywt.dwt2(test_images_db3[i], 'db3')\n",
    "    LL, (LH, HL, HH) = db_2_mnist_test\n",
    "    test_images_db3_2[i] = LL"
   ]
  },
  {
   "cell_type": "code",
   "execution_count": 25,
   "metadata": {},
   "outputs": [],
   "source": [
    "xTrain_mnist_db3_2 = np.reshape(train_images_db3_2, (train_images_db3_2.shape[0], -1))\n",
    "xTest_mnist_db3_2 = np.reshape(test_images_db3_2, (test_images_db3_2.shape[0], -1))"
   ]
  },
  {
   "cell_type": "code",
   "execution_count": 26,
   "metadata": {},
   "outputs": [
    {
     "name": "stdout",
     "output_type": "stream",
     "text": [
      "Model:  GaussianNB()\n",
      "Średnia dokłądności:  0.5784750000000001\n",
      "Model:  LinearDiscriminantAnalysis()\n",
      "Średnia dokłądności:  0.84755\n",
      "Model:  NearestCentroid()\n",
      "Średnia dokłądności:  0.787575\n",
      "Model:  KNeighborsClassifier(n_neighbors=1)\n",
      "Średnia dokłądności:  0.9346749999999998\n",
      "Model:  KNeighborsClassifier(algorithm='brute', n_neighbors=3)\n",
      "Średnia dokłądności:  0.9360000000000002\n",
      "Model:  KNeighborsClassifier()\n",
      "Średnia dokłądności:  0.9361749999999999\n",
      "Model:  KNeighborsClassifier(n_neighbors=7)\n",
      "Średnia dokłądności:  0.93735\n",
      "Model:  KNeighborsClassifier(n_neighbors=21)\n",
      "Średnia dokłądności:  0.922175\n",
      "Model:  SVC()\n",
      "Średnia dokłądności:  0.9429000000000001\n"
     ]
    }
   ],
   "source": [
    "test_sample = 0.4\n",
    "\n",
    "for i in classifiers:\n",
    "  print('Model: ',i)\n",
    "  sumAcc = 0\n",
    "  meanAcc = 0\n",
    "  for j in range(10):\n",
    "      model = i\n",
    "      predicted, X_test, y_test = fit_model(i,test_sample, xTest_mnist_db3_2, y_test_mnist)\n",
    "      sumAcc += metrics.accuracy_score(y_test, predicted)\n",
    "  meanAcc = sumAcc/10\n",
    "  print('Średnia dokłądności: ',meanAcc)"
   ]
  },
  {
   "attachments": {},
   "cell_type": "markdown",
   "metadata": {},
   "source": [
    "### L3"
   ]
  },
  {
   "cell_type": "code",
   "execution_count": 28,
   "metadata": {},
   "outputs": [],
   "source": [
    "train_images_db3_3 = np.empty(shape=(60000,7,7))\n",
    "test_images_db3_3 = np.empty(shape=(10000,7,7))\n",
    "\n",
    "for i in range(len(train_images_db3_2)):\n",
    "    db_2_mnist_train = pywt.dwt2(train_images_db3_2[i], 'db3')\n",
    "    LL, (LH, HL, HH) = db_2_mnist_train\n",
    "    train_images_db3_3[i] = LL\n",
    "\n",
    "for i in range(len(test_images_db3_2)):\n",
    "    db_2_mnist_test = pywt.dwt2(test_images_db3_2[i], 'db3')\n",
    "    LL, (LH, HL, HH) = db_2_mnist_test\n",
    "    test_images_db3_3[i] = LL"
   ]
  },
  {
   "cell_type": "code",
   "execution_count": 29,
   "metadata": {},
   "outputs": [],
   "source": [
    "xTrain_mnist_db3_2 = np.reshape(train_images_db3_3, (train_images_db3_3.shape[0], -1))\n",
    "xTest_mnist_db3_2 = np.reshape(test_images_db3_3, (test_images_db3_3.shape[0], -1))"
   ]
  },
  {
   "cell_type": "code",
   "execution_count": 30,
   "metadata": {},
   "outputs": [
    {
     "name": "stdout",
     "output_type": "stream",
     "text": [
      "Model:  GaussianNB()\n",
      "Średnia dokłądności:  0.558925\n",
      "Model:  LinearDiscriminantAnalysis()\n",
      "Średnia dokłądności:  0.7898999999999999\n",
      "Model:  NearestCentroid()\n",
      "Średnia dokłądności:  0.5615249999999999\n",
      "Model:  KNeighborsClassifier(n_neighbors=1)\n",
      "Średnia dokłądności:  0.7370249999999999\n",
      "Model:  KNeighborsClassifier(algorithm='brute', n_neighbors=3)\n",
      "Średnia dokłądności:  0.750975\n",
      "Model:  KNeighborsClassifier()\n",
      "Średnia dokłądności:  0.76245\n",
      "Model:  KNeighborsClassifier(n_neighbors=7)\n",
      "Średnia dokłądności:  0.7663500000000001\n",
      "Model:  KNeighborsClassifier(n_neighbors=21)\n",
      "Średnia dokłądności:  0.7513750000000001\n",
      "Model:  SVC()\n",
      "Średnia dokłądności:  0.7943250000000002\n"
     ]
    }
   ],
   "source": [
    "test_sample = 0.4\n",
    "\n",
    "for i in classifiers:\n",
    "  print('Model: ',i)\n",
    "  sumAcc = 0\n",
    "  meanAcc = 0\n",
    "  for j in range(10):\n",
    "      model = i\n",
    "      predicted, X_test, y_test = fit_model(i,test_sample, xTest_mnist_db3_2, y_test_mnist)\n",
    "      sumAcc += metrics.accuracy_score(y_test, predicted)\n",
    "  meanAcc = sumAcc/10\n",
    "  print('Średnia dokłądności: ',meanAcc)"
   ]
  },
  {
   "attachments": {},
   "cell_type": "markdown",
   "metadata": {},
   "source": [
    "### Haar with whole decomposition"
   ]
  },
  {
   "cell_type": "code",
   "execution_count": 126,
   "metadata": {},
   "outputs": [],
   "source": [
    "images_haar_full = np.empty(shape=(10000,56,14))\n",
    "images_haar_LL = np.empty(shape=(10000,14,14))\n",
    "images_haar_details = np.empty(shape=(10000,588))\n",
    "\n",
    "\n",
    "for i in range(len(X_test_mnist)):\n",
    "    db_2_mnist_test = pywt.dwt2(X_test_mnist[i], 'db1')\n",
    "    LL, (LH, HL, HH) = db_2_mnist_test\n",
    "    images_haar_full[i] = np.concatenate((LL,LH,HL,HH))\n",
    "    images_haar_LL[i] = LL\n",
    "    images_haar_details[i] = np.concatenate((LH,HL,HH), axis=None)"
   ]
  },
  {
   "cell_type": "code",
   "execution_count": 107,
   "metadata": {},
   "outputs": [],
   "source": [
    "Data_mnist_haar_full = np.reshape(images_haar_full, (images_haar_full.shape[0], -1))\n"
   ]
  },
  {
   "cell_type": "code",
   "execution_count": 74,
   "metadata": {},
   "outputs": [
    {
     "name": "stdout",
     "output_type": "stream",
     "text": [
      "Model:  GaussianNB()\n",
      "Średnia dokłądności:  0.5843750000000001\n",
      "Model:  LinearDiscriminantAnalysis()\n",
      "Średnia dokłądności:  0.855825\n",
      "Model:  NearestCentroid()\n",
      "Średnia dokłądności:  0.8163500000000001\n",
      "Model:  KNeighborsClassifier(n_neighbors=1)\n",
      "Średnia dokłądności:  0.9455500000000001\n",
      "Model:  KNeighborsClassifier(algorithm='brute', n_neighbors=3)\n",
      "Średnia dokłądności:  0.944875\n",
      "Model:  KNeighborsClassifier()\n",
      "Średnia dokłądności:  0.9400999999999999\n",
      "Model:  KNeighborsClassifier(n_neighbors=7)\n",
      "Średnia dokłądności:  0.9403749999999998\n",
      "Model:  KNeighborsClassifier(n_neighbors=21)\n",
      "Średnia dokłądności:  0.9228999999999999\n",
      "Model:  SVC()\n",
      "Średnia dokłądności:  0.959075\n"
     ]
    }
   ],
   "source": [
    "test_sample = 0.4\n",
    "\n",
    "for i in classifiers:\n",
    "  print('Model: ',i)\n",
    "  sumAcc = 0\n",
    "  meanAcc = 0\n",
    "  for j in range(10):\n",
    "      model = i\n",
    "      predicted, X_test, y_test = fit_model(i,test_sample, Data_mnist_haar_full, y_test_mnist)\n",
    "      sumAcc += metrics.accuracy_score(y_test, predicted)\n",
    "  meanAcc = sumAcc/10\n",
    "  print('Średnia dokłądności: ',meanAcc)"
   ]
  },
  {
   "cell_type": "code",
   "execution_count": 106,
   "metadata": {},
   "outputs": [
    {
     "data": {
      "text/plain": [
       "(42, 14)"
      ]
     },
     "execution_count": 106,
     "metadata": {},
     "output_type": "execute_result"
    }
   ],
   "source": [
    "images_haar_details[1].shape"
   ]
  },
  {
   "cell_type": "code",
   "execution_count": 122,
   "metadata": {},
   "outputs": [],
   "source": [
    "images_haar_full_2 = np.empty(shape=(10000,196))\n",
    "images_haar_full = np.empty(shape=(10000,784))\n",
    "images_haar_LL_2 = np.empty(shape=(10000,7,7))\n",
    "images_haar_details_2 = np.empty(shape=(10000,147))\n",
    "\n",
    "for i in range(len(images_haar_LL)):\n",
    "    db_2_mnist_test = pywt.dwt2(images_haar_LL[i], 'db1')\n",
    "    LL2, (LH2, HL2, HH2) = db_2_mnist_test\n",
    "    images_haar_full_2[i] = np.concatenate((LL2,LH2,HL2,HH2), axis=None)\n",
    "    images_haar_full[i] = np.concatenate((images_haar_full_2[i],images_haar_details[i]), axis=0)\n",
    "    images_haar_LL_2[i] = LL2\n",
    "    images_haar_details_2[i] = np.concatenate((LH2,HL2,HH2), axis=None)"
   ]
  },
  {
   "cell_type": "code",
   "execution_count": 84,
   "metadata": {},
   "outputs": [
    {
     "name": "stdout",
     "output_type": "stream",
     "text": [
      "(10000, 196) (10000, 588)\n"
     ]
    }
   ],
   "source": [
    "images_haar_full_L2 = np.reshape(images_haar_full_2, (images_haar_full_2.shape[0], -1))\n",
    "images_haar_details_L1 = np.reshape(images_haar_details, (images_haar_details.shape[0], -1))\n",
    "\n",
    "print(images_haar_full_L2.shape, images_haar_details_L1.shape)"
   ]
  },
  {
   "cell_type": "code",
   "execution_count": 110,
   "metadata": {},
   "outputs": [
    {
     "name": "stdout",
     "output_type": "stream",
     "text": [
      "Model:  GaussianNB()\n",
      "Średnia dokłądności:  0.5418999999999999\n",
      "Model:  LinearDiscriminantAnalysis()\n",
      "Średnia dokłądności:  0.8524750000000001\n",
      "Model:  NearestCentroid()\n",
      "Średnia dokłądności:  0.8204749999999998\n",
      "Model:  KNeighborsClassifier(n_neighbors=1)\n",
      "Średnia dokłądności:  0.9462249999999999\n",
      "Model:  KNeighborsClassifier(algorithm='brute', n_neighbors=3)\n",
      "Średnia dokłądności:  0.945225\n",
      "Model:  KNeighborsClassifier()\n",
      "Średnia dokłądności:  0.9428750000000001\n",
      "Model:  KNeighborsClassifier(n_neighbors=7)\n",
      "Średnia dokłądności:  0.9396000000000001\n",
      "Model:  KNeighborsClassifier(n_neighbors=21)\n",
      "Średnia dokłądności:  0.922025\n",
      "Model:  SVC()\n",
      "Średnia dokłądności:  0.957675\n"
     ]
    }
   ],
   "source": [
    "test_sample = 0.4\n",
    "\n",
    "for i in classifiers:\n",
    "  print('Model: ',i)\n",
    "  sumAcc = 0\n",
    "  meanAcc = 0\n",
    "  for j in range(10):\n",
    "      model = i\n",
    "      predicted, X_test, y_test = fit_model(i,test_sample, images_haar_full, y_test_mnist)\n",
    "      sumAcc += metrics.accuracy_score(y_test, predicted)\n",
    "  meanAcc = sumAcc/10\n",
    "  print('Średnia dokłądności: ',meanAcc)"
   ]
  },
  {
   "cell_type": "code",
   "execution_count": 128,
   "metadata": {},
   "outputs": [],
   "source": [
    "images_haar_full_3 = np.empty(shape=(10000,196))\n",
    "images_haar_full_L2 = np.empty(shape=(10000,343))\n",
    "images_haar_full = np.empty(shape=(10000, 931))\n",
    "images_haar_LL_3 = np.empty(shape=(10000,7,7))\n",
    "images_haar_details_3 = np.empty(shape=(10000,21,7))\n",
    "\n",
    "for i in range(len(images_haar_LL)):\n",
    "    db_3_mnist_test = pywt.dwt2(images_haar_LL[i], 'db1')\n",
    "    LL3, (LH3, HL3, HH3) = db_3_mnist_test\n",
    "    images_haar_full_3[i] = np.concatenate((LL3,LH3,HL3,HH3), axis=None)\n",
    "    images_haar_full_L2[i] = np.concatenate((images_haar_full_3[i],images_haar_details_2[i]), axis=0)\n",
    "    images_haar_full[i] = np.concatenate((images_haar_full_L2[i],images_haar_details[i]), axis=0)\n",
    "    images_haar_LL_2[i] = LL2\n",
    "    images_haar_details_3[i] = np.concatenate((LH2,HL2,HH2))"
   ]
  },
  {
   "cell_type": "code",
   "execution_count": 129,
   "metadata": {},
   "outputs": [
    {
     "name": "stdout",
     "output_type": "stream",
     "text": [
      "Model:  GaussianNB()\n",
      "Średnia dokłądności:  0.528225\n",
      "Model:  LinearDiscriminantAnalysis()\n",
      "Średnia dokłądności:  0.854875\n",
      "Model:  NearestCentroid()\n",
      "Średnia dokłądności:  0.8118000000000001\n",
      "Model:  KNeighborsClassifier(n_neighbors=1)\n",
      "Średnia dokłądności:  0.9450499999999998\n",
      "Model:  KNeighborsClassifier(algorithm='brute', n_neighbors=3)\n",
      "Średnia dokłądności:  0.9416\n",
      "Model:  KNeighborsClassifier()\n",
      "Średnia dokłądności:  0.9415749999999999\n",
      "Model:  KNeighborsClassifier(n_neighbors=7)\n",
      "Średnia dokłądności:  0.9381750000000002\n",
      "Model:  KNeighborsClassifier(n_neighbors=21)\n",
      "Średnia dokłądności:  0.9190250000000001\n",
      "Model:  SVC()\n",
      "Średnia dokłądności:  0.9577\n"
     ]
    }
   ],
   "source": [
    "test_sample = 0.4\n",
    "\n",
    "for i in classifiers:\n",
    "  print('Model: ',i)\n",
    "  sumAcc = 0\n",
    "  meanAcc = 0\n",
    "  for j in range(10):\n",
    "      model = i\n",
    "      predicted, X_test, y_test = fit_model(i,test_sample, images_haar_full, y_test_mnist)\n",
    "      sumAcc += metrics.accuracy_score(y_test, predicted)\n",
    "  meanAcc = sumAcc/10\n",
    "  print('Średnia dokłądności: ',meanAcc)"
   ]
  }
 ],
 "metadata": {
  "kernelspec": {
   "display_name": "base",
   "language": "python",
   "name": "python3"
  },
  "language_info": {
   "codemirror_mode": {
    "name": "ipython",
    "version": 3
   },
   "file_extension": ".py",
   "mimetype": "text/x-python",
   "name": "python",
   "nbconvert_exporter": "python",
   "pygments_lexer": "ipython3",
   "version": "3.9.13"
  },
  "orig_nbformat": 4
 },
 "nbformat": 4,
 "nbformat_minor": 2
}
